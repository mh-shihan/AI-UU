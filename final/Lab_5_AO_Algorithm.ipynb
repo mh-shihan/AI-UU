{
  "nbformat": 4,
  "nbformat_minor": 0,
  "metadata": {
    "colab": {
      "provenance": []
    },
    "kernelspec": {
      "name": "python3",
      "display_name": "Python 3"
    },
    "language_info": {
      "name": "python"
    }
  },
  "cells": [
    {
      "cell_type": "code",
      "execution_count": 1,
      "metadata": {
        "id": "g3t4twvAb0qY"
      },
      "outputs": [],
      "source": [
        "# ------------------------------\n",
        "# Cost Calculation for Nodes\n",
        "# ------------------------------\n",
        "def calculate_cost(heuristics, condition, weight=1):\n",
        "    cost = {}\n",
        "\n",
        "    if 'AND' in condition:\n",
        "        and_nodes = condition['AND']\n",
        "        path_key = ' AND '.join(and_nodes)\n",
        "        total_cost = sum(heuristics[node] + weight for node in and_nodes)\n",
        "        cost[path_key] = total_cost\n",
        "\n",
        "    if 'OR' in condition:\n",
        "        or_nodes = condition['OR']\n",
        "        path_key = ' OR '.join(or_nodes)\n",
        "        total_cost = min(heuristics[node] + weight for node in or_nodes)\n",
        "        cost[path_key] = total_cost\n",
        "\n",
        "    return cost\n"
      ]
    },
    {
      "cell_type": "code",
      "source": [
        "# ------------------------------\n",
        "# Update Heuristic Table Bottom-Up\n",
        "# ------------------------------\n",
        "def update_heuristics(heuristics, conditions, weight=1):\n",
        "    updated_costs = {}\n",
        "    nodes = list(conditions.keys())\n",
        "    nodes.reverse()  # Bottom-up update\n",
        "\n",
        "    for node in nodes:\n",
        "        condition = conditions[node]\n",
        "        costs = calculate_cost(heuristics, condition, weight)\n",
        "        heuristics[node] = min(costs.values())  # Update heuristic table\n",
        "        updated_costs[node] = calculate_cost(heuristics, condition, weight)\n",
        "\n",
        "        print(f\"{node} : {condition} => {costs}\")\n",
        "\n",
        "    return updated_costs\n"
      ],
      "metadata": {
        "id": "jocGXrLUfAlD"
      },
      "execution_count": 2,
      "outputs": []
    },
    {
      "cell_type": "code",
      "source": [
        "# ------------------------------\n",
        "# Find the Shortest Path Recursively\n",
        "# ------------------------------\n",
        "def find_shortest_path(start, updated_costs, heuristics):\n",
        "    path = start\n",
        "\n",
        "    if start in updated_costs:\n",
        "        min_cost = min(updated_costs[start].values())\n",
        "        path_options = list(updated_costs[start].keys())\n",
        "        path_values = list(updated_costs[start].values())\n",
        "        index = path_values.index(min_cost)\n",
        "\n",
        "        next_nodes = path_options[index].split()\n",
        "\n",
        "        if len(next_nodes) == 1:\n",
        "            # OR case\n",
        "            next_node = next_nodes[0]\n",
        "            path += \" <-- \" + find_shortest_path(next_node, updated_costs, heuristics)\n",
        "        else:\n",
        "            # AND case\n",
        "            path += \" <-- (\" + path_options[index] + \") [\"\n",
        "            first_part = find_shortest_path(next_nodes[0], updated_costs, heuristics)\n",
        "            second_part = find_shortest_path(next_nodes[-1], updated_costs, heuristics)\n",
        "            path += first_part + \" + \" + second_part + \"]\"\n",
        "\n",
        "    return path\n"
      ],
      "metadata": {
        "id": "1J01Y_k1gr45"
      },
      "execution_count": 3,
      "outputs": []
    },
    {
      "cell_type": "code",
      "source": [
        "# ------------------------------\n",
        "# Example: Use the Solver\n",
        "# ------------------------------\n",
        "# Heuristic values for each node (initial guess)\n",
        "heuristics = {\n",
        "    'A': -1, 'B': 5, 'C': 2, 'D': 4,\n",
        "    'E': 7, 'F': 9, 'G': 3,\n",
        "    'H': 0, 'I': 0, 'J': 0\n",
        "}\n",
        "\n",
        "# Conditions for each parent node\n",
        "conditions = {\n",
        "    'A': {'OR': ['B'], 'AND': ['C', 'D']},\n",
        "    'B': {'OR': ['E', 'F']},\n",
        "    'C': {'OR': ['G'], 'AND': ['H', 'I']},\n",
        "    'D': {'OR': ['J']}\n",
        "}\n",
        "\n",
        "# Step 1: Update heuristics based on conditions\n",
        "print(\"\\n--- Updating Heuristics ---\")\n",
        "updated_costs = update_heuristics(heuristics, conditions, weight=1)\n",
        "\n",
        "# Step 2: Display shortest path from A\n",
        "print(\"\\n--- Shortest Path from A ---\")\n",
        "shortest = find_shortest_path('A', updated_costs, heuristics)\n",
        "print(\"Shortest Path:\", shortest)\n",
        "\n"
      ],
      "metadata": {
        "colab": {
          "base_uri": "https://localhost:8080/"
        },
        "id": "EQSVKjk2fHzI",
        "outputId": "d9a6b55c-8f3d-45a5-a29b-42e7d6744012"
      },
      "execution_count": 6,
      "outputs": [
        {
          "output_type": "stream",
          "name": "stdout",
          "text": [
            "\n",
            "--- Updating Heuristics ---\n",
            "D : {'OR': ['J']} => {'J': 1}\n",
            "C : {'OR': ['G'], 'AND': ['H', 'I']} => {'H AND I': 2, 'G': 4}\n",
            "B : {'OR': ['E', 'F']} => {'E OR F': 8}\n",
            "A : {'OR': ['B'], 'AND': ['C', 'D']} => {'C AND D': 5, 'B': 9}\n",
            "\n",
            "--- Shortest Path from A ---\n",
            "Shortest Path: A <-- (C AND D) [C <-- (H AND I) [H + I] + D <-- J]\n"
          ]
        }
      ]
    }
  ]
}