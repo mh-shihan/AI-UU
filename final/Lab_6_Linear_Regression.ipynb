{
  "nbformat": 4,
  "nbformat_minor": 0,
  "metadata": {
    "colab": {
      "provenance": []
    },
    "kernelspec": {
      "name": "python3",
      "display_name": "Python 3"
    },
    "language_info": {
      "name": "python"
    }
  },
  "cells": [
    {
      "cell_type": "code",
      "execution_count": 1,
      "metadata": {
        "colab": {
          "base_uri": "https://localhost:8080/"
        },
        "id": "ZRIs2XTlZ_5x",
        "outputId": "61f2c843-cb4b-4232-87f3-25ba6d60e54e"
      },
      "outputs": [
        {
          "output_type": "stream",
          "name": "stdout",
          "text": [
            "Equation of the best-fit line: y = 0.60x + 2.20\n",
            "Predicted y values: [2.8000000000000003, 3.4000000000000004, 4.0, 4.6, 5.2]\n",
            "Mean Squared Error: 0.47999999999999987\n"
          ]
        }
      ],
      "source": [
        "# Step 1: Sample Data (x = input, y = actual output)\n",
        "x = [1, 2, 3, 4, 5]     # Example: Hours studied\n",
        "y = [2, 4, 5, 4, 5]     # Example: Exam scores\n",
        "\n",
        "# Step 2: Function to Calculate Mean\n",
        "def mean(values):\n",
        "    total = sum(values)         # Add all values\n",
        "    count = len(values)         # Count how many values\n",
        "    return total / count        # Divide to get average\n",
        "\n",
        "# Calculate mean of x and y\n",
        "mean_x = mean(x)\n",
        "mean_y = mean(y)\n",
        "\n",
        "# Step 3: Calculate the Slope (m)\n",
        "# Formula: m = sum((xi - mean_x)(yi - mean_y)) / sum((xi - mean_x)^2)\n",
        "numerator = 0     # For the top part of the slope formula\n",
        "denominator = 0   # For the bottom part\n",
        "\n",
        "# Loop through all points\n",
        "for i in range(len(x)):\n",
        "    numerator += (x[i] - mean_x) * (y[i] - mean_y)\n",
        "    denominator += (x[i] - mean_x) ** 2\n",
        "\n",
        "# Now calculate the slope (m)\n",
        "m = numerator / denominator\n",
        "\n",
        "# Step 4: Calculate the Intercept (b)\n",
        "# Formula: b = mean_y - m * mean_x\n",
        "b = mean_y - m * mean_x\n",
        "\n",
        "# Show the final model\n",
        "print(\"Equation of the best-fit line: y = {:.2f}x + {:.2f}\".format(m, b))\n",
        "\n",
        "# Step 5: Use the model to make predictions\n",
        "def predict(x_values):\n",
        "    predictions = []\n",
        "    for xi in x_values:\n",
        "        yi = m * xi + b       # Apply the formula y = mx + b\n",
        "        predictions.append(yi)\n",
        "    return predictions\n",
        "\n",
        "# Predict y values for the original x values\n",
        "predicted_y = predict(x)\n",
        "\n",
        "# Show predictions\n",
        "print(\"Predicted y values:\", predicted_y)\n",
        "\n",
        "# Step 6: Measure the error (how far off are our predictions?)\n",
        "# We'll use Mean Squared Error (MSE)\n",
        "def mean_squared_error(y_actual, y_predicted):\n",
        "    total_error = 0\n",
        "    for i in range(len(y_actual)):\n",
        "        error = y_actual[i] - y_predicted[i]\n",
        "        total_error += error ** 2\n",
        "    return total_error / len(y_actual)\n",
        "\n",
        "# Calculate MSE\n",
        "mse = mean_squared_error(y, predicted_y)\n",
        "print(\"Mean Squared Error:\", mse)\n"
      ]
    }
  ]
}